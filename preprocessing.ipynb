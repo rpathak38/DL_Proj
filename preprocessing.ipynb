{
 "cells": [
  {
   "cell_type": "code",
   "execution_count": 1,
   "outputs": [],
   "source": [
    "import urllib.request\n",
    "import tarfile\n",
    "import numpy as np\n",
    "import random\n",
    "import os\n",
    "import torch\n",
    "from PIL import Image\n",
    "from torchvision import transforms\n",
    "import zipfile\n",
    "from torch.utils.data import DataLoader\n",
    "import matplotlib.pyplot as plt\n",
    "%load_ext autoreload\n",
    "%autoreload 2"
   ],
   "metadata": {
    "collapsed": false,
    "ExecuteTime": {
     "end_time": "2023-12-04T23:41:15.754741076Z",
     "start_time": "2023-12-04T23:41:14.255506417Z"
    }
   },
   "id": "501cf1b5ea35a0dd"
  },
  {
   "cell_type": "code",
   "execution_count": 2,
   "outputs": [],
   "source": [
    "seed_value = 42\n",
    "\n",
    "# 1. Set `PYTHONHASHSEED` environment variable at a fixed value\n",
    "os.environ['PYTHONHASHSEED'] = str(seed_value)\n",
    "\n",
    "# 2. Set `python` built-in pseudo-random generator at a fixed value\n",
    "random.seed(seed_value)\n",
    "\n",
    "# 3. Set `numpy` pseudo-random generator at a fixed value\n",
    "np.random.seed(seed_value)\n",
    "\n",
    "# 4. Set `torch` pseudo-random generator at a fixed value\n",
    "torch.manual_seed(seed_value)\n",
    "\n",
    "# 5. If you are using CUDA, set also the seed for it and enable deterministic behavior\n",
    "if torch.cuda.is_available():\n",
    "    torch.cuda.manual_seed(seed_value)\n",
    "    torch.cuda.manual_seed_all(seed_value)  # if using multi-GPU.\n",
    "    # Below two lines ensure deterministic behavior, but may lead to slower training\n",
    "    # due to the need to find algorithms that have deterministic behavior.\n",
    "    torch.backends.cudnn.deterministic = True\n",
    "    torch.backends.cudnn.benchmark = False"
   ],
   "metadata": {
    "collapsed": false,
    "ExecuteTime": {
     "end_time": "2023-12-04T23:41:15.772730207Z",
     "start_time": "2023-12-04T23:41:15.755322052Z"
    }
   },
   "id": "a06c8f4f5a639b03"
  },
  {
   "cell_type": "code",
   "execution_count": 3,
   "outputs": [
    {
     "name": "stdout",
     "output_type": "stream",
     "text": [
      "CUDA Available: True\n",
      "Using device: cuda\n"
     ]
    }
   ],
   "source": [
    "# Check if CUDA is available\n",
    "# Regardless of whether or not you are using GPU create the no gpu environment for now\n",
    "is_cuda_available = torch.cuda.is_available()\n",
    "\n",
    "# Print the status of CUDA availability\n",
    "print(\"CUDA Available:\", is_cuda_available)\n",
    "\n",
    "# Set the device to CUDA if available, otherwise use CPU\n",
    "device = torch.device(\"cuda\" if is_cuda_available else \"cpu\")\n",
    "\n",
    "# Print the device being used\n",
    "print(\"Using device:\", device)"
   ],
   "metadata": {
    "collapsed": false,
    "ExecuteTime": {
     "end_time": "2023-12-04T23:41:16.421576973Z",
     "start_time": "2023-12-04T23:41:16.407443351Z"
    }
   },
   "id": "1de165a5cadb4ba7"
  },
  {
   "cell_type": "code",
   "execution_count": 4,
   "outputs": [],
   "source": [
    "data_dir = \"data\"\n",
    "aug_data_dir = \"sbd_dat_mat\"\n",
    "large_dataset = False # set to false if you want small dataset (0k images vs 10k images)"
   ],
   "metadata": {
    "collapsed": false,
    "ExecuteTime": {
     "end_time": "2023-12-04T23:41:18.241005908Z",
     "start_time": "2023-12-04T23:41:18.227655121Z"
    }
   },
   "id": "bd778d18d1e9e02b"
  },
  {
   "cell_type": "code",
   "execution_count": 11,
   "id": "initial_id",
   "metadata": {
    "collapsed": true,
    "ExecuteTime": {
     "end_time": "2023-12-04T23:28:45.563457772Z",
     "start_time": "2023-12-04T23:25:43.584248663Z"
    }
   },
   "outputs": [],
   "source": [
    "# Uncomment to download train_val dataset, comment afterwards\n",
    "\n",
    "os.makedirs(data_dir, exist_ok=True)\n",
    "\n",
    "voc_url = \"http://pjreddie.com/media/files/VOCtrainval_11-May-2012.tar\"\n",
    "voc_name = \"pascal_voc.tar\"\n",
    "voc_name = os.path.join(data_dir, voc_name)\n",
    "\n",
    "urllib.request.urlretrieve(voc_url, voc_name)\n",
    "\n",
    "with tarfile.open(voc_name) as tar:\n",
    "    tar.extractall(path=data_dir)"
   ]
  },
  {
   "cell_type": "code",
   "execution_count": 5,
   "outputs": [],
   "source": [
    "# Augmentations dataset. This is a large dataset. Don't download unless you are planning on doing full training.\n",
    "if large_dataset is True: \n",
    "    aug_data_dir = \"sbd_dat_mat\"\n",
    "    os.makedirs(aug_data_dir, exist_ok=True)\n",
    "    \n",
    "    aug_url = \"http://www.eecs.berkeley.edu/Research/Projects/CS/vision/grouping/semantic_contours/benchmark.tgz\"\n",
    "    aug_name = os.path.join(aug_data_dir, 'sbd_aug.tar')\n",
    "    \n",
    "    # Downloading the file from the URL\n",
    "    urllib.request.urlretrieve(aug_url, aug_name)\n",
    "    \n",
    "    with tarfile.open(aug_name) as tar:\n",
    "        tar.extractall(path=aug_data_dir)"
   ],
   "metadata": {
    "collapsed": false,
    "ExecuteTime": {
     "end_time": "2023-12-04T23:41:23.471018422Z",
     "start_time": "2023-12-04T23:41:23.453006276Z"
    }
   },
   "id": "3bee0c7fa6248b9a"
  },
  {
   "cell_type": "code",
   "execution_count": 7,
   "outputs": [
    {
     "name": "stdout",
     "output_type": "stream",
     "text": [
      "Using small dataset (Pascal VOC)\n",
      "Using small dataset (Pascal VOC)\n"
     ]
    }
   ],
   "source": [
    "from data_loader import pascalVOCLoader\n",
    "from augmentations import *\n",
    "\n",
    "# motivation for cropping instead of resizing: https://github.com/VainF/DeepLabV3Plus-Pytorch\n",
    "aug_list = Compose([RandomCrop(512)])\n",
    "pascal_original = os.path.join(data_dir, \"VOCdevkit/VOC2012\")\n",
    "if large_dataset is True:\n",
    "    pascal_augment = os.path.join(aug_data_dir, \"benchmark_RELEASE\")\n",
    "    split_train = \"train\"\n",
    "    split_val = \"train_val\"\n",
    "else:\n",
    "    pascal_augment = None\n",
    "    split_train = \"train\"\n",
    "    split_val = \"train_val\"\n",
    "train_dataset = pascalVOCLoader(pascal_original, pascal_augment, split=split_train, is_transform=True, img_size='same', augmentations=aug_list)\n",
    "val_dataset = pascalVOCLoader(pascal_original, pascal_augment, split=split_val, is_transform=True, img_size='same', augmentations=aug_list)\n",
    "# After this cell runs, switch to gpu environment if desired. Comment out dataset download code before running (above two cells)."
   ],
   "metadata": {
    "collapsed": false,
    "ExecuteTime": {
     "end_time": "2023-12-04T23:42:51.456181349Z",
     "start_time": "2023-12-04T23:42:51.402847946Z"
    }
   },
   "id": "c2671a3a7a003bb1"
  },
  {
   "cell_type": "code",
   "execution_count": null,
   "outputs": [],
   "source": [
    "from torch.utils.data import DataLoader\n",
    "\n",
    "# DataLoader parameters\n",
    "batch_size = 64  # You can adjust this depending on your GPU memory\n",
    "shuffle = True   # Shuffles the dataset at every epoch\n",
    "num_workers = 4  # Number of worker threads for loading data\n",
    "\n",
    "# Create the DataLoaders for our training and validation sets\n",
    "train_loader = DataLoader(train_dataset, batch_size=batch_size, shuffle=shuffle, num_workers=num_workers)\n",
    "val_loader = DataLoader(val_dataset, batch_size=batch_size, shuffle=False, num_workers=num_workers)"
   ],
   "metadata": {
    "collapsed": false,
    "ExecuteTime": {
     "start_time": "2023-12-04T23:28:45.564019403Z"
    }
   },
   "id": "85d1375949fb14e9"
  },
  {
   "cell_type": "code",
   "execution_count": null,
   "outputs": [],
   "source": [
    "vis_length = 5\n",
    "imgs = []\n",
    "masks = []\n",
    "for img, mask in train_loader:\n",
    "    imgs.append(train_dataset.unnormalize(img[0]))\n",
    "    mask_decoded = train_dataset.decode_segmap(mask[0].numpy())\n",
    "    masks.append(torch.tensor(mask_decoded).permute(2, 0, 1))\n",
    "    if len(imgs) == vis_length:\n",
    "        break\n",
    "print(imgs[0].shape)\n",
    "print(masks[0].shape)"
   ],
   "metadata": {
    "collapsed": false,
    "ExecuteTime": {
     "start_time": "2023-12-04T23:28:45.564232158Z"
    }
   },
   "id": "71f0eb3c86f6e0c0"
  },
  {
   "cell_type": "code",
   "execution_count": null,
   "outputs": [],
   "source": [
    "def visualize_image_and_mask_tensors(image_tensors, mask_tensors):\n",
    "    \"\"\"\n",
    "    Visualize lists of image tensors and their corresponding mask tensors as regular images.\n",
    "    \n",
    "    Parameters:\n",
    "        image_tensors (list of torch.Tensor): The list of image tensors to visualize.\n",
    "        mask_tensors (list of torch.Tensor): The list of mask tensors to visualize.\n",
    "    \"\"\"\n",
    "    for i, (image_tensor, mask_tensor) in enumerate(zip(image_tensors, mask_tensors)):\n",
    "        # Convert the image tensor to numpy and change to HWC format for visualization\n",
    "        image_np = image_tensor.permute(1, 2, 0).numpy()\n",
    "\n",
    "        # Convert the mask tensor to numpy and change to HWC format for visualization\n",
    "        mask_np = mask_tensor.permute(1, 2, 0).numpy()\n",
    "\n",
    "        # Display the image and the mask side by side\n",
    "        plt.figure(figsize=(10, 5))\n",
    "\n",
    "        # Display the image\n",
    "        plt.subplot(1, 2, 1)\n",
    "        plt.imshow(image_np)\n",
    "        plt.title(f'Image {i+1}')\n",
    "        plt.axis('off')\n",
    "\n",
    "        # Display the mask\n",
    "        plt.subplot(1, 2, 2)\n",
    "        plt.imshow(mask_np)\n",
    "        plt.title(f'Mask {i+1}')\n",
    "        plt.axis('off')\n",
    "\n",
    "        plt.show()\n",
    "\n",
    "# For testing, let's use the same image tensors and mask tensors as regular three-channel images\n",
    "# We'll use the previously defined image_tensors and create new mask_tensors with 3 channels\n",
    "mask_tensors = [torch.rand(3, 100, 100), torch.rand(3, 100, 100)]\n",
    "\n",
    "# Test the function\n",
    "visualize_image_and_mask_tensors(imgs, masks)"
   ],
   "metadata": {
    "collapsed": false,
    "ExecuteTime": {
     "start_time": "2023-12-04T23:28:45.564314134Z"
    }
   },
   "id": "e600ac6fc57c9ddd"
  },
  {
   "cell_type": "code",
   "execution_count": null,
   "outputs": [],
   "source": [],
   "metadata": {
    "collapsed": false
   },
   "id": "1c67c707fb024ff"
  }
 ],
 "metadata": {
  "kernelspec": {
   "display_name": "Python 3",
   "language": "python",
   "name": "python3"
  },
  "language_info": {
   "codemirror_mode": {
    "name": "ipython",
    "version": 2
   },
   "file_extension": ".py",
   "mimetype": "text/x-python",
   "name": "python",
   "nbconvert_exporter": "python",
   "pygments_lexer": "ipython2",
   "version": "2.7.6"
  }
 },
 "nbformat": 4,
 "nbformat_minor": 5
}
