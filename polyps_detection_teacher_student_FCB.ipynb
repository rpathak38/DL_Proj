{
  "cells": [
    {
      "cell_type": "markdown",
      "id": "0ed16207-76bb-4d51-825e-5825c4e6db7f",
      "metadata": {
        "id": "0ed16207-76bb-4d51-825e-5825c4e6db7f"
      },
      "source": [
        "This notebook tries to identify images of polyps in intestine that can help in early detection of colorectal cancer\n",
        "\n",
        "\n",
        "Dataset link: https://paperswithcode.com/dataset/medico-automatic-polyp-segmentation-challenge#:~:text=Automatic%20Polyp%20Segmentation-,The%20“Medico%20automatic%20polyp%20segmentation%20challenge”%20aims%20to%20develop%20computer,with%20high%20efficiency%20and%20accuracy.\n",
        "Download dataset from here https://datasets.simula.no/kvasir-seg/ to the ./data folder and replace the path while instantiating dataset"
      ]
    },
    {
      "cell_type": "code",
      "source": [
        "!rm -rf ./DL_Proj/\n",
        "!rm -rf ./FCBFormer/\n",
        "!git clone --single-branch --branch theerath https://github.com/rpathak38/DL_Proj.git\n",
        "!git clone https://github.com/ESandML/FCBFormer temp_dir\n",
        "!mv temp_dir/* temp_dir/.* .\n",
        "!rmdir temp_dir\n",
        "!pip install timm"
      ],
      "metadata": {
        "colab": {
          "base_uri": "https://localhost:8080/"
        },
        "id": "oNgh47eeVtqL",
        "outputId": "08c10db7-7508-491f-82af-ef559df5b64b"
      },
      "id": "oNgh47eeVtqL",
      "execution_count": 1,
      "outputs": [
        {
          "output_type": "stream",
          "name": "stdout",
          "text": [
            "Cloning into 'DL_Proj'...\n",
            "remote: Enumerating objects: 66, done.\u001b[K\n",
            "remote: Counting objects: 100% (38/38), done.\u001b[K\n",
            "remote: Compressing objects: 100% (30/30), done.\u001b[K\n",
            "remote: Total 66 (delta 21), reused 18 (delta 8), pack-reused 28\u001b[K\n",
            "Receiving objects: 100% (66/66), 27.70 MiB | 27.22 MiB/s, done.\n",
            "Resolving deltas: 100% (32/32), done.\n",
            "Cloning into 'temp_dir'...\n",
            "remote: Enumerating objects: 79, done.\u001b[K\n",
            "remote: Counting objects: 100% (79/79), done.\u001b[K\n",
            "remote: Compressing objects: 100% (77/77), done.\u001b[K\n",
            "remote: Total 79 (delta 35), reused 20 (delta 2), pack-reused 0\u001b[K\n",
            "Receiving objects: 100% (79/79), 2.28 MiB | 10.10 MiB/s, done.\n",
            "Resolving deltas: 100% (35/35), done.\n",
            "mv: cannot move 'temp_dir/.' to './.': Device or resource busy\n",
            "mv: cannot move 'temp_dir/..' to './..': Device or resource busy\n",
            "Collecting timm\n",
            "  Downloading timm-0.9.12-py3-none-any.whl (2.2 MB)\n",
            "\u001b[2K     \u001b[90m━━━━━━━━━━━━━━━━━━━━━━━━━━━━━━━━━━━━━━━━\u001b[0m \u001b[32m2.2/2.2 MB\u001b[0m \u001b[31m8.6 MB/s\u001b[0m eta \u001b[36m0:00:00\u001b[0m\n",
            "\u001b[?25hRequirement already satisfied: torch>=1.7 in /usr/local/lib/python3.10/dist-packages (from timm) (2.1.0+cu118)\n",
            "Requirement already satisfied: torchvision in /usr/local/lib/python3.10/dist-packages (from timm) (0.16.0+cu118)\n",
            "Requirement already satisfied: pyyaml in /usr/local/lib/python3.10/dist-packages (from timm) (6.0.1)\n",
            "Requirement already satisfied: huggingface-hub in /usr/local/lib/python3.10/dist-packages (from timm) (0.19.4)\n",
            "Requirement already satisfied: safetensors in /usr/local/lib/python3.10/dist-packages (from timm) (0.4.1)\n",
            "Requirement already satisfied: filelock in /usr/local/lib/python3.10/dist-packages (from torch>=1.7->timm) (3.13.1)\n",
            "Requirement already satisfied: typing-extensions in /usr/local/lib/python3.10/dist-packages (from torch>=1.7->timm) (4.5.0)\n",
            "Requirement already satisfied: sympy in /usr/local/lib/python3.10/dist-packages (from torch>=1.7->timm) (1.12)\n",
            "Requirement already satisfied: networkx in /usr/local/lib/python3.10/dist-packages (from torch>=1.7->timm) (3.2.1)\n",
            "Requirement already satisfied: jinja2 in /usr/local/lib/python3.10/dist-packages (from torch>=1.7->timm) (3.1.2)\n",
            "Requirement already satisfied: fsspec in /usr/local/lib/python3.10/dist-packages (from torch>=1.7->timm) (2023.6.0)\n",
            "Requirement already satisfied: triton==2.1.0 in /usr/local/lib/python3.10/dist-packages (from torch>=1.7->timm) (2.1.0)\n",
            "Requirement already satisfied: requests in /usr/local/lib/python3.10/dist-packages (from huggingface-hub->timm) (2.31.0)\n",
            "Requirement already satisfied: tqdm>=4.42.1 in /usr/local/lib/python3.10/dist-packages (from huggingface-hub->timm) (4.66.1)\n",
            "Requirement already satisfied: packaging>=20.9 in /usr/local/lib/python3.10/dist-packages (from huggingface-hub->timm) (23.2)\n",
            "Requirement already satisfied: numpy in /usr/local/lib/python3.10/dist-packages (from torchvision->timm) (1.23.5)\n",
            "Requirement already satisfied: pillow!=8.3.*,>=5.3.0 in /usr/local/lib/python3.10/dist-packages (from torchvision->timm) (9.4.0)\n",
            "Requirement already satisfied: MarkupSafe>=2.0 in /usr/local/lib/python3.10/dist-packages (from jinja2->torch>=1.7->timm) (2.1.3)\n",
            "Requirement already satisfied: charset-normalizer<4,>=2 in /usr/local/lib/python3.10/dist-packages (from requests->huggingface-hub->timm) (3.3.2)\n",
            "Requirement already satisfied: idna<4,>=2.5 in /usr/local/lib/python3.10/dist-packages (from requests->huggingface-hub->timm) (3.6)\n",
            "Requirement already satisfied: urllib3<3,>=1.21.1 in /usr/local/lib/python3.10/dist-packages (from requests->huggingface-hub->timm) (2.0.7)\n",
            "Requirement already satisfied: certifi>=2017.4.17 in /usr/local/lib/python3.10/dist-packages (from requests->huggingface-hub->timm) (2023.11.17)\n",
            "Requirement already satisfied: mpmath>=0.19 in /usr/local/lib/python3.10/dist-packages (from sympy->torch>=1.7->timm) (1.3.0)\n",
            "Installing collected packages: timm\n",
            "Successfully installed timm-0.9.12\n"
          ]
        }
      ]
    },
    {
      "cell_type": "code",
      "execution_count": 2,
      "id": "6d6308a8-d228-4fc9-9068-e61ba5571021",
      "metadata": {
        "tags": [],
        "id": "6d6308a8-d228-4fc9-9068-e61ba5571021"
      },
      "outputs": [],
      "source": [
        "import os\n",
        "import cv2\n",
        "import numpy as np\n",
        "from tqdm import tqdm\n",
        "import torch\n",
        "from torch.utils.data import Dataset, DataLoader\n",
        "from torchvision import transforms\n",
        "import torch.nn.functional as F\n",
        "import requests\n",
        "import zipfile\n",
        "import timm"
      ]
    },
    {
      "cell_type": "code",
      "source": [
        "url = 'https://datasets.simula.no/downloads/kvasir-seg.zip'\n",
        "local_filename = url.split('/')[-1]\n",
        "\n",
        "# Download the file\n",
        "response = requests.get(url, stream=True)\n",
        "with open(local_filename, 'wb') as f:\n",
        "    for chunk in response.iter_content(chunk_size=8192):\n",
        "        if chunk:  # filter out keep-alive new chunks\n",
        "            f.write(chunk)\n",
        "\n",
        "# Unzip the file\n",
        "with zipfile.ZipFile(local_filename, 'r') as zip_ref:\n",
        "    zip_ref.extractall('.')\n",
        "\n",
        "# Remove the zip file\n",
        "os.remove(local_filename)"
      ],
      "metadata": {
        "id": "9Y0dhIAfV3pK"
      },
      "id": "9Y0dhIAfV3pK",
      "execution_count": 3,
      "outputs": []
    },
    {
      "cell_type": "code",
      "source": [
        "url = 'https://github.com/whai362/PVT/releases/download/v2/pvt_v2_b3.pth'\n",
        "local_filename = url.split('/')[-1]\n",
        "\n",
        "# Download the file\n",
        "response = requests.get(url, stream=True)\n",
        "with open(local_filename, 'wb') as f:\n",
        "    for chunk in response.iter_content(chunk_size=8192):\n",
        "        if chunk:  # filter out keep-alive new chunks\n",
        "            f.write(chunk)"
      ],
      "metadata": {
        "id": "aXl90soHV4pU"
      },
      "id": "aXl90soHV4pU",
      "execution_count": 4,
      "outputs": []
    },
    {
      "cell_type": "code",
      "execution_count": 5,
      "id": "7bdde41f-348d-4bde-a8da-8b9d87d3bed8",
      "metadata": {
        "id": "7bdde41f-348d-4bde-a8da-8b9d87d3bed8"
      },
      "outputs": [],
      "source": [
        "class CustomDataset(Dataset):\n",
        "    def __init__(self, root_dir, transform=None, train=True):\n",
        "        self.root_dir = root_dir\n",
        "        self.transform = transform\n",
        "        self.train = train\n",
        "\n",
        "        # List all image and mask files\n",
        "        self.image_files = sorted([f for f in os.listdir(os.path.join(root_dir, 'images')) if f.endswith('.jpg')])\n",
        "        self.mask_files = sorted([f for f in os.listdir(os.path.join(root_dir, 'masks')) if f.endswith('.jpg')])\n",
        "\n",
        "        # Split dataset into train and test\n",
        "        if self.train:\n",
        "            self.image_files = self.image_files[:800]\n",
        "            self.mask_files = self.mask_files[:800]\n",
        "        else:\n",
        "            self.image_files = self.image_files[800:]\n",
        "            self.mask_files = self.mask_files[800:]\n",
        "\n",
        "    def __len__(self):\n",
        "        return len(self.image_files)\n",
        "\n",
        "    def __getitem__(self, idx):\n",
        "        # Load image and mask\n",
        "        img_path = os.path.join(self.root_dir, 'images', self.image_files[idx])\n",
        "        mask_path = os.path.join(self.root_dir, 'masks', self.mask_files[idx])\n",
        "        image = cv2.imread(img_path)\n",
        "        mask = cv2.imread(mask_path)\n",
        "\n",
        "        # Preprocess the mask\n",
        "        mask = self.process_mask(mask)\n",
        "\n",
        "        # Apply transformations\n",
        "        if self.transform:\n",
        "            image = self.transform(image)\n",
        "            mask = self.transform(mask)\n",
        "\n",
        "        return {'image': image, 'mask': mask}\n",
        "\n",
        "    def process_mask(self, mask):\n",
        "        # Convert mask values as per your requirement\n",
        "        mask[mask <= 8] = 0\n",
        "        mask[mask >= 246] = 255\n",
        "        mask = cv2.cvtColor(mask, cv2.COLOR_BGR2GRAY)\n",
        "        return mask"
      ]
    },
    {
      "cell_type": "code",
      "execution_count": 6,
      "id": "81eea24f-28d9-4296-a882-e4f53cc02201",
      "metadata": {
        "tags": [],
        "id": "81eea24f-28d9-4296-a882-e4f53cc02201"
      },
      "outputs": [],
      "source": [
        "transform = transforms.Compose([\n",
        "    transforms.ToTensor(),\n",
        "    # transforms.Resize((256, 256))\n",
        "    transforms.Resize((352, 352))]) # The FCB model uses this size\n",
        "\n",
        "# train_dataset = CustomDataset(root_dir='/root/GATech/cs7643/polyps_detection/data/Kvasir-SEG', transform=transform, train=True)\n",
        "# val_dataset = CustomDataset(root_dir='/root/GATech/cs7643/polyps_detection/data/Kvasir-SEG', transform=transform, train=False)\n",
        "train_dataset = CustomDataset(root_dir='/content/Kvasir-SEG', transform=transform, train=True)\n",
        "val_dataset = CustomDataset(root_dir='/content/Kvasir-SEG', transform=transform, train=False)\n",
        "\n",
        "train_loader = DataLoader(train_dataset, batch_size=16, shuffle=True)\n",
        "val_loader = DataLoader(val_dataset, batch_size=16, shuffle=True)"
      ]
    },
    {
      "cell_type": "code",
      "execution_count": 7,
      "id": "b6f2f290-4fdf-4809-a7e6-f20d927dfd5a",
      "metadata": {
        "id": "b6f2f290-4fdf-4809-a7e6-f20d927dfd5a",
        "outputId": "b4d0a1d5-7e8d-42e2-e655-294a72b5ef30",
        "colab": {
          "base_uri": "https://localhost:8080/",
          "height": 405
        }
      },
      "outputs": [
        {
          "output_type": "stream",
          "name": "stderr",
          "text": [
            "/usr/local/lib/python3.10/dist-packages/torchvision/transforms/functional.py:1603: UserWarning: The default value of the antialias parameter of all the resizing transforms (Resize(), RandomResizedCrop(), etc.) will change from None to True in v0.17, in order to be consistent across the PIL and Tensor backends. To suppress this warning, directly pass antialias=True (recommended, future default), antialias=None (current default, which means False for Tensors and True for PIL), or antialias=False (only works on Tensors - PIL will still use antialiasing). This also applies if you are using the inference transforms from the models weights: update the call to weights.transforms(antialias=True).\n",
            "  warnings.warn(\n"
          ]
        },
        {
          "output_type": "display_data",
          "data": {
            "text/plain": [
              "<Figure size 640x480 with 1 Axes>"
            ],
            "image/png": "[encoded data removed]"
          },
          "metadata": {}
        },
        {
          "output_type": "display_data",
          "data": {
            "text/plain": [
              "<Figure size 640x480 with 1 Axes>"
            ],
            "image/png": "[encoded data removed]"
          },
          "metadata": {}
        }
      ],
      "source": [
        "import matplotlib.pyplot as plt\n",
        "from torchvision.utils import make_grid\n",
        "import torchvision.transforms.functional as TF\n",
        "\n",
        "def reverse_transform(tensor):\n",
        "    \"\"\"Converts a PyTorch tensor to a NumPy array for visualization.\"\"\"\n",
        "    image = tensor.cpu().clone()\n",
        "    image = image.squeeze(0)  # Remove batch dimension\n",
        "    image = TF.to_pil_image(image)\n",
        "    return np.array(image)\n",
        "\n",
        "# Visualize some random samples from the test dataset\n",
        "num_samples = 4\n",
        "\n",
        "for batch in val_loader:\n",
        "    images, masks = batch['image'], batch['mask']\n",
        "    break  # Break after the first batch\n",
        "\n",
        "# Visualize original images\n",
        "grid_images = make_grid(images[:num_samples], nrow=num_samples)\n",
        "plt.imshow(reverse_transform(grid_images))\n",
        "plt.title('Original Images')\n",
        "plt.axis('off')\n",
        "plt.show()\n",
        "\n",
        "# Visualize corresponding masks\n",
        "grid_masks = make_grid(masks[:num_samples], nrow=num_samples)\n",
        "plt.imshow(reverse_transform(grid_masks), cmap='gray')\n",
        "plt.title('Corresponding Masks')\n",
        "plt.axis('off')\n",
        "plt.show()\n"
      ]
    },
    {
      "cell_type": "code",
      "execution_count": 8,
      "id": "7197d983-edf2-4a12-9c6b-69be930f9373",
      "metadata": {
        "tags": [],
        "id": "7197d983-edf2-4a12-9c6b-69be930f9373",
        "outputId": "bbc4844d-2679-494a-c7b5-fa3000525233",
        "colab": {
          "base_uri": "https://localhost:8080/"
        }
      },
      "outputs": [
        {
          "output_type": "execute_result",
          "data": {
            "text/plain": [
              "50"
            ]
          },
          "metadata": {},
          "execution_count": 8
        }
      ],
      "source": [
        "len(train_loader)"
      ]
    },
    {
      "cell_type": "code",
      "execution_count": 9,
      "id": "c89f5ae3-68da-47bd-8c39-92edac1a1fd7",
      "metadata": {
        "tags": [],
        "id": "c89f5ae3-68da-47bd-8c39-92edac1a1fd7",
        "outputId": "fc463e3f-150e-48d4-80fd-4580d4a61a3c",
        "colab": {
          "base_uri": "https://localhost:8080/"
        }
      },
      "outputs": [
        {
          "output_type": "stream",
          "name": "stderr",
          "text": [
            "/content/Models/pvt_v2.py:332: UserWarning: Overwriting pvt_v2_b0 in registry with Models.pvt_v2.pvt_v2_b0. This is because the name being registered conflicts with an existing name. Please check if this is not expected.\n",
            "  def pvt_v2_b0(pretrained=False, **kwargs):\n",
            "/content/Models/pvt_v2.py:343: UserWarning: Overwriting pvt_v2_b1 in registry with Models.pvt_v2.pvt_v2_b1. This is because the name being registered conflicts with an existing name. Please check if this is not expected.\n",
            "  def pvt_v2_b1(pretrained=False, **kwargs):\n",
            "/content/Models/pvt_v2.py:354: UserWarning: Overwriting pvt_v2_b2 in registry with Models.pvt_v2.pvt_v2_b2. This is because the name being registered conflicts with an existing name. Please check if this is not expected.\n",
            "  def pvt_v2_b2(pretrained=False, **kwargs):\n",
            "/content/Models/pvt_v2.py:364: UserWarning: Overwriting pvt_v2_b3 in registry with Models.pvt_v2.pvt_v2_b3. This is because the name being registered conflicts with an existing name. Please check if this is not expected.\n",
            "  def pvt_v2_b3(pretrained=False, **kwargs):\n",
            "/content/Models/pvt_v2.py:375: UserWarning: Overwriting pvt_v2_b4 in registry with Models.pvt_v2.pvt_v2_b4. This is because the name being registered conflicts with an existing name. Please check if this is not expected.\n",
            "  def pvt_v2_b4(pretrained=False, **kwargs):\n",
            "/content/Models/pvt_v2.py:386: UserWarning: Overwriting pvt_v2_b5 in registry with Models.pvt_v2.pvt_v2_b5. This is because the name being registered conflicts with an existing name. Please check if this is not expected.\n",
            "  def pvt_v2_b5(pretrained=False, **kwargs):\n",
            "/content/Models/pvt_v2.py:397: UserWarning: Overwriting pvt_v2_b2_li in registry with Models.pvt_v2.pvt_v2_b2_li. This is because the name being registered conflicts with an existing name. Please check if this is not expected.\n",
            "  def pvt_v2_b2_li(pretrained=False, **kwargs):\n"
          ]
        },
        {
          "output_type": "stream",
          "name": "stdout",
          "text": [
            "Using device: cuda\n"
          ]
        }
      ],
      "source": [
        "# Check for CUDA availability\n",
        "from DL_Proj.unet import UNet\n",
        "from Models import models\n",
        "\n",
        "device = torch.device(\"cuda\" if torch.cuda.is_available() else \"cpu\")\n",
        "print(f\"Using device: {device}\")\n",
        "\n",
        "def init_weights(m):\n",
        "    if isinstance(m, torch.nn.Conv2d):\n",
        "        torch.nn.init.xavier_uniform(m.weight)\n",
        "\n",
        "# Initialize the model\n",
        "# model = UNet(3, 1, [64, 128, 256, 512])\n",
        "model = models.FCBFormer()\n",
        "\n",
        "# Move the model to the CUDA device if available\n",
        "model = model.to(device)\n",
        "\n",
        "epochs = 30\n",
        "lr = 0.001\n",
        "criterion = torch.nn.BCEWithLogitsLoss()\n",
        "optimizer = torch.optim.Adam(params=model.parameters(), lr=lr)"
      ]
    },
    {
      "cell_type": "code",
      "execution_count": 10,
      "id": "9c31bfe1-d3fb-4106-b49c-a5f62cfc4d21",
      "metadata": {
        "tags": [],
        "id": "9c31bfe1-d3fb-4106-b49c-a5f62cfc4d21"
      },
      "outputs": [],
      "source": [
        "def pixel_acc(outputs, mask):\n",
        "    outputs = (outputs > 0.5).float()  # Convert probability to binary prediction\n",
        "    correct_pixels = torch.eq(outputs, mask).float().sum()\n",
        "    total_pixels = mask.numel()\n",
        "    accuracy = correct_pixels / total_pixels\n",
        "    return accuracy\n",
        "\n",
        "def calculate_iou(outputs, mask):\n",
        "    outputs = (outputs > 0.5).float()\n",
        "    intersection = torch.logical_and(outputs, mask).sum()\n",
        "    union = torch.logical_or(outputs, mask).sum()\n",
        "    iou = intersection / union if union != 0 else 0.0\n",
        "    return iou\n",
        "\n",
        "def dice_index(outputs, mask):\n",
        "    smooth = 1e-5\n",
        "    outputs = (outputs > 0.5).float()\n",
        "    intersection = torch.sum(outputs * mask)\n",
        "    union = torch.sum(outputs) + torch.sum(mask)\n",
        "    dice = (2.0 * intersection + smooth) / (union + smooth)\n",
        "    return dice"
      ]
    },
    {
      "cell_type": "code",
      "execution_count": 11,
      "id": "35a8465a-4b34-466d-98f6-623349bf75fa",
      "metadata": {
        "tags": [],
        "id": "35a8465a-4b34-466d-98f6-623349bf75fa"
      },
      "outputs": [],
      "source": [
        "\n",
        "# # Training and validation code\n",
        "# for epoch in range(epochs):\n",
        "#     print(f\"EPOCH {epoch}:\")\n",
        "#     model.train()\n",
        "#     batch_loss = batch_acc = batch_iou=batch_pacc=0.0\n",
        "\n",
        "#     for batch in tqdm(train_loader, desc=f\"Training Loop, Epoch: {epoch}\"):\n",
        "#         # Move data to CUDA\n",
        "#         img, mask = batch['image'], batch['mask']\n",
        "#         img, mask = img.to(device), mask.to(device)\n",
        "#         optimizer.zero_grad()\n",
        "#         outs = model(img)\n",
        "#         # loss=dice_loss(outs, mask)\n",
        "#         loss=criterion(outs,mask)\n",
        "#         # loss = class_balanced_focal_ce_loss(outs, mask, weights=class_weights, gamma=2)\n",
        "#         loss.backward()\n",
        "#         optimizer.step()\n",
        "\n",
        "#         with torch.no_grad():\n",
        "#             accuracy = dice_index(outs, mask)\n",
        "#             iou=calculate_iou(outs,mask)\n",
        "#             pacc=pixel_acc(outs,mask)\n",
        "#             batch_loss += loss.item()\n",
        "#             batch_acc += accuracy.item()\n",
        "#             batch_iou+=iou\n",
        "#             batch_pacc+=pacc\n",
        "\n",
        "#     batch_loss /= len(train_loader)\n",
        "#     batch_acc /= len(train_loader)\n",
        "#     batch_iou/=len(train_loader)\n",
        "#     batch_pacc/=len(train_loader)\n",
        "#     print(f\"Training loss: {batch_loss}, Training accuracy: {batch_pacc}, DICE:{batch_acc} ,IOU: {batch_iou}\")\n",
        "#     model.eval()\n",
        "#     val_loss = val_acc = val_iou=val_pacc=0.0\n",
        "\n",
        "#     with torch.no_grad():\n",
        "#         sample_printed = False\n",
        "#         for batch in tqdm(val_loader, desc=f\"Validation Loop, Epoch: {epoch}\"):\n",
        "#             # Move data to CUDA\n",
        "#             img, mask = batch['image'], batch['mask']\n",
        "#             img, mask = img.to(device), mask.to(device)\n",
        "\n",
        "\n",
        "#             outs = model(img)\n",
        "#             loss=criterion(outs, mask)\n",
        "#             iou=calculate_iou(outs,mask)\n",
        "#             pacc=pixel_acc(outs,mask)\n",
        "#             accuracy = dice_index(outs, mask)\n",
        "#             val_loss += loss.item()\n",
        "#             val_acc += accuracy.item()\n",
        "#             val_iou+=iou\n",
        "#             val_pacc+=pacc\n",
        "\n",
        "#             if not sample_printed:\n",
        "#                 sample_printed = True\n",
        "#                 idx = 0  # Choose the index of the sample to print\n",
        "#                 sample_img = img[idx].cpu().numpy().transpose((1, 2, 0))\n",
        "#                 sample_mask = mask[idx].cpu().numpy()\n",
        "#                 sample_pred = outs[idx].cpu().numpy()\n",
        "\n",
        "#                 plt.figure(figsize=(10, 5))\n",
        "#                 plt.subplot(1, 3, 1)\n",
        "#                 plt.imshow(sample_img)\n",
        "#                 plt.title(\"Input Image\")\n",
        "\n",
        "#                 plt.subplot(1, 3, 2)\n",
        "\n",
        "#                 # Check if the mask is 2D or 3D\n",
        "#                 if sample_mask.ndim == 3 and sample_mask.shape[0] == 1:\n",
        "#                     sample_mask = sample_mask[0]  # Remove the singleton dimension\n",
        "\n",
        "#                 plt.imshow(sample_mask, cmap='gray')\n",
        "#                 plt.title(\"Ground Truth Mask\")\n",
        "\n",
        "#                 plt.subplot(1, 3, 3)\n",
        "\n",
        "#                 # Check if the prediction is 2D or 3D\n",
        "#                 if sample_pred.ndim == 3 and sample_pred.shape[0] == 1:\n",
        "#                     sample_pred = sample_pred[0]  # Remove the singleton dimension\n",
        "\n",
        "#                 plt.imshow(sample_pred, cmap='gray')\n",
        "#                 plt.title(\"Predicted Mask\")\n",
        "\n",
        "#                 plt.show()\n",
        "\n",
        "#     val_loss /= len(val_loader)\n",
        "#     val_acc /= len(val_loader)\n",
        "#     val_iou/=len(val_loader)\n",
        "#     val_pacc/=len(val_loader)\n",
        "#     print(f\"Validation loss: {val_loss}, Validation accuracy: {val_pacc},DICE:{val_acc},IOU: {val_iou}\")"
      ]
    },
    {
      "cell_type": "code",
      "execution_count": 11,
      "id": "79fa4c54-4c4a-4916-871e-026c58b6bdbb",
      "metadata": {
        "id": "79fa4c54-4c4a-4916-871e-026c58b6bdbb"
      },
      "outputs": [],
      "source": []
    },
    {
      "cell_type": "code",
      "execution_count": 12,
      "id": "1c8104f3-3633-4b84-a2fa-06badd01bc17",
      "metadata": {
        "tags": [],
        "id": "1c8104f3-3633-4b84-a2fa-06badd01bc17",
        "outputId": "6f620cae-2dc9-48e0-f717-a48ba7fa3bb4",
        "colab": {
          "base_uri": "https://localhost:8080/"
        }
      },
      "outputs": [
        {
          "output_type": "stream",
          "name": "stdout",
          "text": [
            "Number of parameters in the U-Net model: 52962337\n"
          ]
        }
      ],
      "source": [
        "def count_parameters(model):\n",
        "    return sum(p.numel() for p in model.parameters() if p.requires_grad)\n",
        "num_params = count_parameters(model)\n",
        "print(f\"Number of parameters in the U-Net model: {num_params}\")"
      ]
    },
    {
      "cell_type": "markdown",
      "id": "ef6a79f7-f110-44ad-a4ed-c4828206c29d",
      "metadata": {
        "id": "ef6a79f7-f110-44ad-a4ed-c4828206c29d"
      },
      "source": [
        "### Student model with distillation"
      ]
    },
    {
      "cell_type": "code",
      "execution_count": 13,
      "id": "77b6c985-e850-42e1-9454-9431bb0570c5",
      "metadata": {
        "tags": [],
        "id": "77b6c985-e850-42e1-9454-9431bb0570c5",
        "outputId": "363d782f-2ff5-4927-aa3a-3aa17c01d8f2",
        "colab": {
          "base_uri": "https://localhost:8080/"
        }
      },
      "outputs": [
        {
          "output_type": "stream",
          "name": "stdout",
          "text": [
            "Using device: cuda\n"
          ]
        }
      ],
      "source": [
        "from DL_Proj.unet import UNet\n",
        "device = torch.device(\"cuda\" if torch.cuda.is_available() else \"cpu\")\n",
        "print(f\"Using device: {device}\")\n",
        "\n",
        "def init_weights(m):\n",
        "    if isinstance(m, torch.nn.Conv2d):\n",
        "        torch.nn.init.xavier_uniform(m.weight)\n",
        "\n",
        "# Initialize the model\n",
        "student_model = UNet(3, 1, [64, 128, 256])\n",
        "\n",
        "# Move the model to the CUDA device if available\n",
        "student_model = student_model.to(device)\n",
        "\n",
        "epochs = 30\n",
        "lr = 0.001\n",
        "criterion = torch.nn.BCEWithLogitsLoss()\n",
        "optimizer = torch.optim.Adam(params=student_model.parameters(), lr=lr)"
      ]
    },
    {
      "cell_type": "code",
      "execution_count": 14,
      "id": "b173df64-c3e7-41c9-bc88-e6aeeae05264",
      "metadata": {
        "tags": [],
        "id": "b173df64-c3e7-41c9-bc88-e6aeeae05264",
        "outputId": "7db2b2b8-0cf5-4b47-aa12-00fae0efa61f",
        "colab": {
          "base_uri": "https://localhost:8080/"
        }
      },
      "outputs": [
        {
          "output_type": "stream",
          "name": "stdout",
          "text": [
            "Number of parameters in the U-Net model: 4651778\n"
          ]
        }
      ],
      "source": [
        "def count_parameters(model):\n",
        "    return sum(p.numel() for p in model.parameters() if p.requires_grad)\n",
        "num_params = count_parameters(student_model)\n",
        "print(f\"Number of parameters in the U-Net model: {num_params}\")"
      ]
    },
    {
      "cell_type": "code",
      "execution_count": 15,
      "id": "e89a0814-e3fd-43b7-ae38-f9fac1a8ff35",
      "metadata": {
        "tags": [],
        "id": "e89a0814-e3fd-43b7-ae38-f9fac1a8ff35"
      },
      "outputs": [],
      "source": [
        "for param in model.parameters():\n",
        "    param.requires_grad = False"
      ]
    },
    {
      "cell_type": "code",
      "execution_count": 16,
      "id": "82d4bf17-5fdd-443b-8bf6-a9186c1137cf",
      "metadata": {
        "tags": [],
        "id": "82d4bf17-5fdd-443b-8bf6-a9186c1137cf"
      },
      "outputs": [],
      "source": [
        "import torch.nn.functional as F\n",
        "def distillation_loss(outputs, labels, teacher_outputs):\n",
        "    # soft_target = torch.nn.functional.softmax(teacher_outputs / temperature, dim=1)\n",
        "    # soft_output = torch.nn.functional.log_softmax(outputs / temperature, dim=1)\n",
        "    N = outputs.shape[0]\n",
        "    outputs=outputs.view(N, -1)\n",
        "    teacher_outputs = teacher_outputs.view(N, -1)\n",
        "\n",
        "    outputs = F.normalize(outputs, p=1, dim=1)\n",
        "    teacher_outputs = F.normalize(teacher_outputs, p=1, dim=1)\n",
        "\n",
        "\n",
        "    outputs = F.log_softmax(outputs, dim=1)\n",
        "    kl_divergence = F.kl_div(outputs, teacher_outputs, reduction='batchmean')\n",
        "\n",
        "    return kl_divergence"
      ]
    },
    {
      "cell_type": "code",
      "execution_count": null,
      "id": "11c1f534-228c-467d-805e-c444374ac6f5",
      "metadata": {
        "tags": [],
        "id": "11c1f534-228c-467d-805e-c444374ac6f5",
        "outputId": "a9a7a036-12ae-4cc6-9bc1-afb4da9337d9",
        "colab": {
          "base_uri": "https://localhost:8080/"
        }
      },
      "outputs": [
        {
          "output_type": "stream",
          "name": "stdout",
          "text": [
            "EPOCH 0:\n"
          ]
        },
        {
          "output_type": "stream",
          "name": "stderr",
          "text": [
            "Training Loop, Epoch: 0:  46%|████▌     | 23/50 [00:55<00:56,  2.10s/it]"
          ]
        }
      ],
      "source": [
        "for epoch in range(epochs):\n",
        "    print(f\"EPOCH {epoch}:\")\n",
        "    batch_loss = batch_acc = batch_iou=batch_pacc=0.0\n",
        "\n",
        "    student_model.train()\n",
        "    model.eval()\n",
        "\n",
        "    for batch in tqdm(train_loader, desc=f\"Training Loop, Epoch: {epoch}\"):\n",
        "        img, mask = batch['image'], batch['mask']\n",
        "        img, mask = img.to(device), mask.to(device)\n",
        "\n",
        "        # Forward pass with the larger U-Net to get teacher outputs\n",
        "        with torch.no_grad():\n",
        "            teacher_outputs = model(img)\n",
        "\n",
        "        optimizer.zero_grad()\n",
        "\n",
        "        # Forward pass with the smaller U-Net\n",
        "        outputs = student_model(img)\n",
        "\n",
        "        # Compute the knowledge distillation loss\n",
        "        kd_loss = distillation_loss(outputs, mask, teacher_outputs)\n",
        "\n",
        "        # Add your segmentation loss (e.g., cross-entropy or dice loss)\n",
        "        segmentation_loss = criterion(outputs, mask)\n",
        "\n",
        "        # Combine the knowledge distillation loss and the segmentation loss\n",
        "        total_loss = kd_loss + segmentation_loss\n",
        "\n",
        "        total_loss.backward()\n",
        "        optimizer.step()\n",
        "        with torch.no_grad():\n",
        "            accuracy = dice_index(outputs, mask)\n",
        "            iou=calculate_iou(outputs,mask)\n",
        "            pacc=pixel_acc(outputs,mask)\n",
        "            batch_loss += total_loss.item()\n",
        "            batch_acc += accuracy.item()\n",
        "            batch_iou+=iou\n",
        "            batch_pacc+=pacc\n",
        "\n",
        "    batch_loss /= len(train_loader)\n",
        "    batch_acc /= len(train_loader)\n",
        "    batch_iou/=len(train_loader)\n",
        "    batch_pacc/=len(train_loader)\n",
        "    print(f\"Training loss: {batch_loss}, Training accuracy: {batch_pacc}, DICE:{batch_acc} ,IOU: {batch_iou}\")\n",
        "    student_model.eval()\n",
        "    val_loss = val_acc = val_iou=val_pacc=0.0\n",
        "\n",
        "    with torch.no_grad():\n",
        "        sample_printed = False\n",
        "        for batch in tqdm(val_loader, desc=f\"Validation Loop, Epoch: {epoch}\"):\n",
        "            # Move data to CUDA\n",
        "            img, mask = batch['image'], batch['mask']\n",
        "            img, mask = img.to(device), mask.to(device)\n",
        "\n",
        "\n",
        "            outs = student_model(img)\n",
        "            loss=criterion(outs, mask)\n",
        "            iou=calculate_iou(outs,mask)\n",
        "            pacc=pixel_acc(outs,mask)\n",
        "            accuracy = dice_index(outs, mask)\n",
        "            val_loss += loss.item()\n",
        "            val_acc += accuracy.item()\n",
        "            val_iou+=iou\n",
        "            val_pacc+=pacc\n",
        "\n",
        "            if not sample_printed:\n",
        "                sample_printed = True\n",
        "                idx = 0  # Choose the index of the sample to print\n",
        "                sample_img = img[idx].cpu().numpy().transpose((1, 2, 0))\n",
        "                sample_mask = mask[idx].cpu().numpy()\n",
        "                sample_pred = outs[idx].cpu().numpy()\n",
        "\n",
        "                plt.figure(figsize=(10, 5))\n",
        "                plt.subplot(1, 3, 1)\n",
        "                plt.imshow(sample_img)\n",
        "                plt.title(\"Input Image\")\n",
        "\n",
        "                plt.subplot(1, 3, 2)\n",
        "\n",
        "                # Check if the mask is 2D or 3D\n",
        "                if sample_mask.ndim == 3 and sample_mask.shape[0] == 1:\n",
        "                    sample_mask = sample_mask[0]  # Remove the singleton dimension\n",
        "\n",
        "                plt.imshow(sample_mask, cmap='gray')\n",
        "                plt.title(\"Ground Truth Mask\")\n",
        "\n",
        "                plt.subplot(1, 3, 3)\n",
        "\n",
        "                # Check if the prediction is 2D or 3D\n",
        "                if sample_pred.ndim == 3 and sample_pred.shape[0] == 1:\n",
        "                    sample_pred = sample_pred[0]  # Remove the singleton dimension\n",
        "\n",
        "                plt.imshow(sample_pred, cmap='gray')\n",
        "                plt.title(\"Predicted Mask\")\n",
        "\n",
        "                plt.show()\n",
        "\n",
        "    val_loss /= len(val_loader)\n",
        "    val_acc /= len(val_loader)\n",
        "    val_iou/=len(val_loader)\n",
        "    val_pacc/=len(val_loader)\n",
        "    print(f\"Validation loss: {val_loss}, Validation accuracy: {val_pacc},DICE:{val_acc},IOU: {val_iou}\")\n"
      ]
    },
    {
      "cell_type": "markdown",
      "id": "e1ec1349-9fd0-4163-83b4-ea675bc22e21",
      "metadata": {
        "id": "e1ec1349-9fd0-4163-83b4-ea675bc22e21"
      },
      "source": [
        "## student model without distillation"
      ]
    },
    {
      "cell_type": "code",
      "execution_count": null,
      "id": "6f3a1da1-5c63-42d1-83c5-b6b9eae2675d",
      "metadata": {
        "tags": [],
        "id": "6f3a1da1-5c63-42d1-83c5-b6b9eae2675d"
      },
      "outputs": [],
      "source": [
        "# Check for CUDA availability\n",
        "from unet import UNet\n",
        "device = torch.device(\"cuda\" if torch.cuda.is_available() else \"cpu\")\n",
        "print(f\"Using device: {device}\")\n",
        "\n",
        "def init_weights(m):\n",
        "    if isinstance(m, torch.nn.Conv2d):\n",
        "        torch.nn.init.xavier_uniform(m.weight)\n",
        "\n",
        "# Initialize the model\n",
        "small_model = UNet(3, 1, [64, 128, 256])\n",
        "\n",
        "# Move the model to the CUDA device if available\n",
        "small_model = small_model.to(device)\n",
        "\n",
        "epochs = 30\n",
        "lr = 0.001\n",
        "criterion = torch.nn.BCEWithLogitsLoss()\n",
        "optimizer = torch.optim.Adam(params=small_model.parameters(), lr=lr)\n",
        "# Training and validation code\n",
        "for epoch in range(epochs):\n",
        "    print(f\"EPOCH {epoch}:\")\n",
        "    small_model.train()\n",
        "    batch_loss = batch_acc = batch_iou=batch_pacc=0.0\n",
        "\n",
        "    for batch in tqdm(train_loader, desc=f\"Training Loop, Epoch: {epoch}\"):\n",
        "        # Move data to CUDA\n",
        "        img, mask = batch['image'], batch['mask']\n",
        "        img, mask = img.to(device), mask.to(device)\n",
        "        optimizer.zero_grad()\n",
        "        outs = small_model(img)\n",
        "        # loss=dice_loss(outs, mask)\n",
        "        loss=criterion(outs,mask)\n",
        "        # loss = class_balanced_focal_ce_loss(outs, mask, weights=class_weights, gamma=2)\n",
        "        loss.backward()\n",
        "        optimizer.step()\n",
        "\n",
        "        with torch.no_grad():\n",
        "            accuracy = dice_index(outs, mask)\n",
        "            iou=calculate_iou(outs,mask)\n",
        "            pacc=pixel_acc(outs,mask)\n",
        "            batch_loss += loss.item()\n",
        "            batch_acc += accuracy.item()\n",
        "            batch_iou+=iou\n",
        "            batch_pacc+=pacc\n",
        "\n",
        "    batch_loss /= len(train_loader)\n",
        "    batch_acc /= len(train_loader)\n",
        "    batch_iou/=len(train_loader)\n",
        "    batch_pacc/=len(train_loader)\n",
        "    print(f\"Training loss: {batch_loss}, Training accuracy: {batch_pacc}, DICE:{batch_acc} ,IOU: {batch_iou}\")\n",
        "    small_model.eval()\n",
        "    val_loss = val_acc = val_iou=val_pacc=0.0\n",
        "\n",
        "    with torch.no_grad():\n",
        "        sample_printed = False\n",
        "        for batch in tqdm(val_loader, desc=f\"Validation Loop, Epoch: {epoch}\"):\n",
        "            # Move data to CUDA\n",
        "            img, mask = batch['image'], batch['mask']\n",
        "            img, mask = img.to(device), mask.to(device)\n",
        "\n",
        "\n",
        "            outs = small_model(img)\n",
        "            loss=criterion(outs, mask)\n",
        "            iou=calculate_iou(outs,mask)\n",
        "            pacc=pixel_acc(outs,mask)\n",
        "            accuracy = dice_index(outs, mask)\n",
        "            val_loss += loss.item()\n",
        "            val_acc += accuracy.item()\n",
        "            val_iou+=iou\n",
        "            val_pacc+=pacc\n",
        "\n",
        "            if not sample_printed:\n",
        "                sample_printed = True\n",
        "                idx = 0  # Choose the index of the sample to print\n",
        "                sample_img = img[idx].cpu().numpy().transpose((1, 2, 0))\n",
        "                sample_mask = mask[idx].cpu().numpy()\n",
        "                sample_pred = outs[idx].cpu().numpy()\n",
        "\n",
        "                plt.figure(figsize=(10, 5))\n",
        "                plt.subplot(1, 3, 1)\n",
        "                plt.imshow(sample_img)\n",
        "                plt.title(\"Input Image\")\n",
        "\n",
        "                plt.subplot(1, 3, 2)\n",
        "\n",
        "                # Check if the mask is 2D or 3D\n",
        "                if sample_mask.ndim == 3 and sample_mask.shape[0] == 1:\n",
        "                    sample_mask = sample_mask[0]  # Remove the singleton dimension\n",
        "\n",
        "                plt.imshow(sample_mask, cmap='gray')\n",
        "                plt.title(\"Ground Truth Mask\")\n",
        "\n",
        "                plt.subplot(1, 3, 3)\n",
        "\n",
        "                # Check if the prediction is 2D or 3D\n",
        "                if sample_pred.ndim == 3 and sample_pred.shape[0] == 1:\n",
        "                    sample_pred = sample_pred[0]  # Remove the singleton dimension\n",
        "\n",
        "                plt.imshow(sample_pred, cmap='gray')\n",
        "                plt.title(\"Predicted Mask\")\n",
        "\n",
        "                plt.show()\n",
        "\n",
        "    val_loss /= len(val_loader)\n",
        "    val_acc /= len(val_loader)\n",
        "    val_iou/=len(val_loader)\n",
        "    val_pacc/=len(val_loader)\n",
        "    print(f\"Validation loss: {val_loss}, Validation accuracy: {val_pacc},DICE:{val_acc},IOU: {val_iou}\")"
      ]
    },
    {
      "cell_type": "code",
      "execution_count": null,
      "id": "cbd065a4-e45e-4b0c-85b1-13dbf4448fb1",
      "metadata": {
        "id": "cbd065a4-e45e-4b0c-85b1-13dbf4448fb1"
      },
      "outputs": [],
      "source": []
    }
  ],
  "metadata": {
    "availableInstances": [
      {
        "_defaultOrder": 0,
        "_isFastLaunch": true,
        "category": "General purpose",
        "gpuNum": 0,
        "hideHardwareSpecs": false,
        "memoryGiB": 4,
        "name": "ml.t3.medium",
        "vcpuNum": 2
      },
      {
        "_defaultOrder": 1,
        "_isFastLaunch": false,
        "category": "General purpose",
        "gpuNum": 0,
        "hideHardwareSpecs": false,
        "memoryGiB": 8,
        "name": "ml.t3.large",
        "vcpuNum": 2
      },
      {
        "_defaultOrder": 2,
        "_isFastLaunch": false,
        "category": "General purpose",
        "gpuNum": 0,
        "hideHardwareSpecs": false,
        "memoryGiB": 16,
        "name": "ml.t3.xlarge",
        "vcpuNum": 4
      },
      {
        "_defaultOrder": 3,
        "_isFastLaunch": false,
        "category": "General purpose",
        "gpuNum": 0,
        "hideHardwareSpecs": false,
        "memoryGiB": 32,
        "name": "ml.t3.2xlarge",
        "vcpuNum": 8
      },
      {
        "_defaultOrder": 4,
        "_isFastLaunch": true,
        "category": "General purpose",
        "gpuNum": 0,
        "hideHardwareSpecs": false,
        "memoryGiB": 8,
        "name": "ml.m5.large",
        "vcpuNum": 2
      },
      {
        "_defaultOrder": 5,
        "_isFastLaunch": false,
        "category": "General purpose",
        "gpuNum": 0,
        "hideHardwareSpecs": false,
        "memoryGiB": 16,
        "name": "ml.m5.xlarge",
        "vcpuNum": 4
      },
      {
        "_defaultOrder": 6,
        "_isFastLaunch": false,
        "category": "General purpose",
        "gpuNum": 0,
        "hideHardwareSpecs": false,
        "memoryGiB": 32,
        "name": "ml.m5.2xlarge",
        "vcpuNum": 8
      },
      {
        "_defaultOrder": 7,
        "_isFastLaunch": false,
        "category": "General purpose",
        "gpuNum": 0,
        "hideHardwareSpecs": false,
        "memoryGiB": 64,
        "name": "ml.m5.4xlarge",
        "vcpuNum": 16
      },
      {
        "_defaultOrder": 8,
        "_isFastLaunch": false,
        "category": "General purpose",
        "gpuNum": 0,
        "hideHardwareSpecs": false,
        "memoryGiB": 128,
        "name": "ml.m5.8xlarge",
        "vcpuNum": 32
      },
      {
        "_defaultOrder": 9,
        "_isFastLaunch": false,
        "category": "General purpose",
        "gpuNum": 0,
        "hideHardwareSpecs": false,
        "memoryGiB": 192,
        "name": "ml.m5.12xlarge",
        "vcpuNum": 48
      },
      {
        "_defaultOrder": 10,
        "_isFastLaunch": false,
        "category": "General purpose",
        "gpuNum": 0,
        "hideHardwareSpecs": false,
        "memoryGiB": 256,
        "name": "ml.m5.16xlarge",
        "vcpuNum": 64
      },
      {
        "_defaultOrder": 11,
        "_isFastLaunch": false,
        "category": "General purpose",
        "gpuNum": 0,
        "hideHardwareSpecs": false,
        "memoryGiB": 384,
        "name": "ml.m5.24xlarge",
        "vcpuNum": 96
      },
      {
        "_defaultOrder": 12,
        "_isFastLaunch": false,
        "category": "General purpose",
        "gpuNum": 0,
        "hideHardwareSpecs": false,
        "memoryGiB": 8,
        "name": "ml.m5d.large",
        "vcpuNum": 2
      },
      {
        "_defaultOrder": 13,
        "_isFastLaunch": false,
        "category": "General purpose",
        "gpuNum": 0,
        "hideHardwareSpecs": false,
        "memoryGiB": 16,
        "name": "ml.m5d.xlarge",
        "vcpuNum": 4
      },
      {
        "_defaultOrder": 14,
        "_isFastLaunch": false,
        "category": "General purpose",
        "gpuNum": 0,
        "hideHardwareSpecs": false,
        "memoryGiB": 32,
        "name": "ml.m5d.2xlarge",
        "vcpuNum": 8
      },
      {
        "_defaultOrder": 15,
        "_isFastLaunch": false,
        "category": "General purpose",
        "gpuNum": 0,
        "hideHardwareSpecs": false,
        "memoryGiB": 64,
        "name": "ml.m5d.4xlarge",
        "vcpuNum": 16
      },
      {
        "_defaultOrder": 16,
        "_isFastLaunch": false,
        "category": "General purpose",
        "gpuNum": 0,
        "hideHardwareSpecs": false,
        "memoryGiB": 128,
        "name": "ml.m5d.8xlarge",
        "vcpuNum": 32
      },
      {
        "_defaultOrder": 17,
        "_isFastLaunch": false,
        "category": "General purpose",
        "gpuNum": 0,
        "hideHardwareSpecs": false,
        "memoryGiB": 192,
        "name": "ml.m5d.12xlarge",
        "vcpuNum": 48
      },
      {
        "_defaultOrder": 18,
        "_isFastLaunch": false,
        "category": "General purpose",
        "gpuNum": 0,
        "hideHardwareSpecs": false,
        "memoryGiB": 256,
        "name": "ml.m5d.16xlarge",
        "vcpuNum": 64
      },
      {
        "_defaultOrder": 19,
        "_isFastLaunch": false,
        "category": "General purpose",
        "gpuNum": 0,
        "hideHardwareSpecs": false,
        "memoryGiB": 384,
        "name": "ml.m5d.24xlarge",
        "vcpuNum": 96
      },
      {
        "_defaultOrder": 20,
        "_isFastLaunch": false,
        "category": "General purpose",
        "gpuNum": 0,
        "hideHardwareSpecs": true,
        "memoryGiB": 0,
        "name": "ml.geospatial.interactive",
        "supportedImageNames": [
          "sagemaker-geospatial-v1-0"
        ],
        "vcpuNum": 0
      },
      {
        "_defaultOrder": 21,
        "_isFastLaunch": true,
        "category": "Compute optimized",
        "gpuNum": 0,
        "hideHardwareSpecs": false,
        "memoryGiB": 4,
        "name": "ml.c5.large",
        "vcpuNum": 2
      },
      {
        "_defaultOrder": 22,
        "_isFastLaunch": false,
        "category": "Compute optimized",
        "gpuNum": 0,
        "hideHardwareSpecs": false,
        "memoryGiB": 8,
        "name": "ml.c5.xlarge",
        "vcpuNum": 4
      },
      {
        "_defaultOrder": 23,
        "_isFastLaunch": false,
        "category": "Compute optimized",
        "gpuNum": 0,
        "hideHardwareSpecs": false,
        "memoryGiB": 16,
        "name": "ml.c5.2xlarge",
        "vcpuNum": 8
      },
      {
        "_defaultOrder": 24,
        "_isFastLaunch": false,
        "category": "Compute optimized",
        "gpuNum": 0,
        "hideHardwareSpecs": false,
        "memoryGiB": 32,
        "name": "ml.c5.4xlarge",
        "vcpuNum": 16
      },
      {
        "_defaultOrder": 25,
        "_isFastLaunch": false,
        "category": "Compute optimized",
        "gpuNum": 0,
        "hideHardwareSpecs": false,
        "memoryGiB": 72,
        "name": "ml.c5.9xlarge",
        "vcpuNum": 36
      },
      {
        "_defaultOrder": 26,
        "_isFastLaunch": false,
        "category": "Compute optimized",
        "gpuNum": 0,
        "hideHardwareSpecs": false,
        "memoryGiB": 96,
        "name": "ml.c5.12xlarge",
        "vcpuNum": 48
      },
      {
        "_defaultOrder": 27,
        "_isFastLaunch": false,
        "category": "Compute optimized",
        "gpuNum": 0,
        "hideHardwareSpecs": false,
        "memoryGiB": 144,
        "name": "ml.c5.18xlarge",
        "vcpuNum": 72
      },
      {
        "_defaultOrder": 28,
        "_isFastLaunch": false,
        "category": "Compute optimized",
        "gpuNum": 0,
        "hideHardwareSpecs": false,
        "memoryGiB": 192,
        "name": "ml.c5.24xlarge",
        "vcpuNum": 96
      },
      {
        "_defaultOrder": 29,
        "_isFastLaunch": true,
        "category": "Accelerated computing",
        "gpuNum": 1,
        "hideHardwareSpecs": false,
        "memoryGiB": 16,
        "name": "ml.g4dn.xlarge",
        "vcpuNum": 4
      },
      {
        "_defaultOrder": 30,
        "_isFastLaunch": false,
        "category": "Accelerated computing",
        "gpuNum": 1,
        "hideHardwareSpecs": false,
        "memoryGiB": 32,
        "name": "ml.g4dn.2xlarge",
        "vcpuNum": 8
      },
      {
        "_defaultOrder": 31,
        "_isFastLaunch": false,
        "category": "Accelerated computing",
        "gpuNum": 1,
        "hideHardwareSpecs": false,
        "memoryGiB": 64,
        "name": "ml.g4dn.4xlarge",
        "vcpuNum": 16
      },
      {
        "_defaultOrder": 32,
        "_isFastLaunch": false,
        "category": "Accelerated computing",
        "gpuNum": 1,
        "hideHardwareSpecs": false,
        "memoryGiB": 128,
        "name": "ml.g4dn.8xlarge",
        "vcpuNum": 32
      },
      {
        "_defaultOrder": 33,
        "_isFastLaunch": false,
        "category": "Accelerated computing",
        "gpuNum": 4,
        "hideHardwareSpecs": false,
        "memoryGiB": 192,
        "name": "ml.g4dn.12xlarge",
        "vcpuNum": 48
      },
      {
        "_defaultOrder": 34,
        "_isFastLaunch": false,
        "category": "Accelerated computing",
        "gpuNum": 1,
        "hideHardwareSpecs": false,
        "memoryGiB": 256,
        "name": "ml.g4dn.16xlarge",
        "vcpuNum": 64
      },
      {
        "_defaultOrder": 35,
        "_isFastLaunch": false,
        "category": "Accelerated computing",
        "gpuNum": 1,
        "hideHardwareSpecs": false,
        "memoryGiB": 61,
        "name": "ml.p3.2xlarge",
        "vcpuNum": 8
      },
      {
        "_defaultOrder": 36,
        "_isFastLaunch": false,
        "category": "Accelerated computing",
        "gpuNum": 4,
        "hideHardwareSpecs": false,
        "memoryGiB": 244,
        "name": "ml.p3.8xlarge",
        "vcpuNum": 32
      },
      {
        "_defaultOrder": 37,
        "_isFastLaunch": false,
        "category": "Accelerated computing",
        "gpuNum": 8,
        "hideHardwareSpecs": false,
        "memoryGiB": 488,
        "name": "ml.p3.16xlarge",
        "vcpuNum": 64
      },
      {
        "_defaultOrder": 38,
        "_isFastLaunch": false,
        "category": "Accelerated computing",
        "gpuNum": 8,
        "hideHardwareSpecs": false,
        "memoryGiB": 768,
        "name": "ml.p3dn.24xlarge",
        "vcpuNum": 96
      },
      {
        "_defaultOrder": 39,
        "_isFastLaunch": false,
        "category": "Memory Optimized",
        "gpuNum": 0,
        "hideHardwareSpecs": false,
        "memoryGiB": 16,
        "name": "ml.r5.large",
        "vcpuNum": 2
      },
      {
        "_defaultOrder": 40,
        "_isFastLaunch": false,
        "category": "Memory Optimized",
        "gpuNum": 0,
        "hideHardwareSpecs": false,
        "memoryGiB": 32,
        "name": "ml.r5.xlarge",
        "vcpuNum": 4
      },
      {
        "_defaultOrder": 41,
        "_isFastLaunch": false,
        "category": "Memory Optimized",
        "gpuNum": 0,
        "hideHardwareSpecs": false,
        "memoryGiB": 64,
        "name": "ml.r5.2xlarge",
        "vcpuNum": 8
      },
      {
        "_defaultOrder": 42,
        "_isFastLaunch": false,
        "category": "Memory Optimized",
        "gpuNum": 0,
        "hideHardwareSpecs": false,
        "memoryGiB": 128,
        "name": "ml.r5.4xlarge",
        "vcpuNum": 16
      },
      {
        "_defaultOrder": 43,
        "_isFastLaunch": false,
        "category": "Memory Optimized",
        "gpuNum": 0,
        "hideHardwareSpecs": false,
        "memoryGiB": 256,
        "name": "ml.r5.8xlarge",
        "vcpuNum": 32
      },
      {
        "_defaultOrder": 44,
        "_isFastLaunch": false,
        "category": "Memory Optimized",
        "gpuNum": 0,
        "hideHardwareSpecs": false,
        "memoryGiB": 384,
        "name": "ml.r5.12xlarge",
        "vcpuNum": 48
      },
      {
        "_defaultOrder": 45,
        "_isFastLaunch": false,
        "category": "Memory Optimized",
        "gpuNum": 0,
        "hideHardwareSpecs": false,
        "memoryGiB": 512,
        "name": "ml.r5.16xlarge",
        "vcpuNum": 64
      },
      {
        "_defaultOrder": 46,
        "_isFastLaunch": false,
        "category": "Memory Optimized",
        "gpuNum": 0,
        "hideHardwareSpecs": false,
        "memoryGiB": 768,
        "name": "ml.r5.24xlarge",
        "vcpuNum": 96
      },
      {
        "_defaultOrder": 47,
        "_isFastLaunch": false,
        "category": "Accelerated computing",
        "gpuNum": 1,
        "hideHardwareSpecs": false,
        "memoryGiB": 16,
        "name": "ml.g5.xlarge",
        "vcpuNum": 4
      },
      {
        "_defaultOrder": 48,
        "_isFastLaunch": false,
        "category": "Accelerated computing",
        "gpuNum": 1,
        "hideHardwareSpecs": false,
        "memoryGiB": 32,
        "name": "ml.g5.2xlarge",
        "vcpuNum": 8
      },
      {
        "_defaultOrder": 49,
        "_isFastLaunch": false,
        "category": "Accelerated computing",
        "gpuNum": 1,
        "hideHardwareSpecs": false,
        "memoryGiB": 64,
        "name": "ml.g5.4xlarge",
        "vcpuNum": 16
      },
      {
        "_defaultOrder": 50,
        "_isFastLaunch": false,
        "category": "Accelerated computing",
        "gpuNum": 1,
        "hideHardwareSpecs": false,
        "memoryGiB": 128,
        "name": "ml.g5.8xlarge",
        "vcpuNum": 32
      },
      {
        "_defaultOrder": 51,
        "_isFastLaunch": false,
        "category": "Accelerated computing",
        "gpuNum": 1,
        "hideHardwareSpecs": false,
        "memoryGiB": 256,
        "name": "ml.g5.16xlarge",
        "vcpuNum": 64
      },
      {
        "_defaultOrder": 52,
        "_isFastLaunch": false,
        "category": "Accelerated computing",
        "gpuNum": 4,
        "hideHardwareSpecs": false,
        "memoryGiB": 192,
        "name": "ml.g5.12xlarge",
        "vcpuNum": 48
      },
      {
        "_defaultOrder": 53,
        "_isFastLaunch": false,
        "category": "Accelerated computing",
        "gpuNum": 4,
        "hideHardwareSpecs": false,
        "memoryGiB": 384,
        "name": "ml.g5.24xlarge",
        "vcpuNum": 96
      },
      {
        "_defaultOrder": 54,
        "_isFastLaunch": false,
        "category": "Accelerated computing",
        "gpuNum": 8,
        "hideHardwareSpecs": false,
        "memoryGiB": 768,
        "name": "ml.g5.48xlarge",
        "vcpuNum": 192
      },
      {
        "_defaultOrder": 55,
        "_isFastLaunch": false,
        "category": "Accelerated computing",
        "gpuNum": 8,
        "hideHardwareSpecs": false,
        "memoryGiB": 1152,
        "name": "ml.p4d.24xlarge",
        "vcpuNum": 96
      },
      {
        "_defaultOrder": 56,
        "_isFastLaunch": false,
        "category": "Accelerated computing",
        "gpuNum": 8,
        "hideHardwareSpecs": false,
        "memoryGiB": 1152,
        "name": "ml.p4de.24xlarge",
        "vcpuNum": 96
      }
    ],
    "instance_type": "ml.g4dn.12xlarge",
    "kernelspec": {
      "display_name": "Python 3 (Base Python 3.0)",
      "language": "python",
      "name": "python3__SAGEMAKER_INTERNAL__arn:aws:sagemaker:us-east-1:081325390199:image/sagemaker-base-python-310-v1"
    },
    "language_info": {
      "codemirror_mode": {
        "name": "ipython",
        "version": 3
      },
      "file_extension": ".py",
      "mimetype": "text/x-python",
      "name": "python",
      "nbconvert_exporter": "python",
      "pygments_lexer": "ipython3",
      "version": "3.10.8"
    },
    "colab": {
      "provenance": [],
      "gpuType": "T4"
    },
    "accelerator": "GPU"
  },
  "nbformat": 4,
  "nbformat_minor": 5
}